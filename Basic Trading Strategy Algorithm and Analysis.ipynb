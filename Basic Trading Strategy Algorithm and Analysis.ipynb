{
 "cells": [
  {
   "cell_type": "markdown",
   "metadata": {},
   "source": [
    "# Trading Algorithms for BTC using Machine Learning\n",
    "# Loading and preparing data"
   ]
  },
  {
   "cell_type": "code",
   "execution_count": 2,
   "metadata": {
    "scrolled": true
   },
   "outputs": [
    {
     "name": "stdout",
     "output_type": "stream",
     "text": [
      "[*********************100%***********************]  1 of 1 completed\n"
     ]
    },
    {
     "data": {
      "text/html": [
       "<div>\n",
       "<style scoped>\n",
       "    .dataframe tbody tr th:only-of-type {\n",
       "        vertical-align: middle;\n",
       "    }\n",
       "\n",
       "    .dataframe tbody tr th {\n",
       "        vertical-align: top;\n",
       "    }\n",
       "\n",
       "    .dataframe thead th {\n",
       "        text-align: right;\n",
       "    }\n",
       "</style>\n",
       "<table border=\"1\" class=\"dataframe\">\n",
       "  <thead>\n",
       "    <tr style=\"text-align: right;\">\n",
       "      <th></th>\n",
       "      <th>open</th>\n",
       "      <th>high</th>\n",
       "      <th>low</th>\n",
       "      <th>close</th>\n",
       "      <th>Adj Close</th>\n",
       "      <th>volume</th>\n",
       "    </tr>\n",
       "  </thead>\n",
       "  <tbody>\n",
       "    <tr>\n",
       "      <th>2022-09-01 22:00:00+00:00</th>\n",
       "      <td>20087.416016</td>\n",
       "      <td>20149.117188</td>\n",
       "      <td>20083.312500</td>\n",
       "      <td>20092.783203</td>\n",
       "      <td>20092.783203</td>\n",
       "      <td>0</td>\n",
       "    </tr>\n",
       "    <tr>\n",
       "      <th>2022-09-01 23:00:00+00:00</th>\n",
       "      <td>20089.234375</td>\n",
       "      <td>20124.507812</td>\n",
       "      <td>20070.943359</td>\n",
       "      <td>20124.507812</td>\n",
       "      <td>20124.507812</td>\n",
       "      <td>0</td>\n",
       "    </tr>\n",
       "    <tr>\n",
       "      <th>2022-09-02 00:00:00+00:00</th>\n",
       "      <td>20126.072266</td>\n",
       "      <td>20127.433594</td>\n",
       "      <td>20062.447266</td>\n",
       "      <td>20076.867188</td>\n",
       "      <td>20076.867188</td>\n",
       "      <td>0</td>\n",
       "    </tr>\n",
       "    <tr>\n",
       "      <th>2022-09-02 01:00:00+00:00</th>\n",
       "      <td>20080.111328</td>\n",
       "      <td>20081.384766</td>\n",
       "      <td>20037.720703</td>\n",
       "      <td>20042.000000</td>\n",
       "      <td>20042.000000</td>\n",
       "      <td>0</td>\n",
       "    </tr>\n",
       "    <tr>\n",
       "      <th>2022-09-02 02:00:00+00:00</th>\n",
       "      <td>20043.611328</td>\n",
       "      <td>20071.027344</td>\n",
       "      <td>19980.810547</td>\n",
       "      <td>20023.369141</td>\n",
       "      <td>20023.369141</td>\n",
       "      <td>0</td>\n",
       "    </tr>\n",
       "  </tbody>\n",
       "</table>\n",
       "</div>"
      ],
      "text/plain": [
       "                                   open          high           low  \\\n",
       "2022-09-01 22:00:00+00:00  20087.416016  20149.117188  20083.312500   \n",
       "2022-09-01 23:00:00+00:00  20089.234375  20124.507812  20070.943359   \n",
       "2022-09-02 00:00:00+00:00  20126.072266  20127.433594  20062.447266   \n",
       "2022-09-02 01:00:00+00:00  20080.111328  20081.384766  20037.720703   \n",
       "2022-09-02 02:00:00+00:00  20043.611328  20071.027344  19980.810547   \n",
       "\n",
       "                                  close     Adj Close  volume  \n",
       "2022-09-01 22:00:00+00:00  20092.783203  20092.783203       0  \n",
       "2022-09-01 23:00:00+00:00  20124.507812  20124.507812       0  \n",
       "2022-09-02 00:00:00+00:00  20076.867188  20076.867188       0  \n",
       "2022-09-02 01:00:00+00:00  20042.000000  20042.000000       0  \n",
       "2022-09-02 02:00:00+00:00  20023.369141  20023.369141       0  "
      ]
     },
     "execution_count": 2,
     "metadata": {},
     "output_type": "execute_result"
    }
   ],
   "source": [
    "import pandas as pd\n",
    "import requests\n",
    "import yfinance as yf\n",
    "\n",
    "df = yf.download(\"BTC-USD\", start=\"2022-05-01\", end=\"2022-09-02\",  interval = \"1H\")\n",
    "df.rename(columns = {'Open':'open', 'High':'high',\n",
    "                              'Low':'low', 'Close':'close','Volume':'volume'}, inplace = True)\n",
    "df.tail()"
   ]
  },
  {
   "cell_type": "code",
   "execution_count": 3,
   "metadata": {},
   "outputs": [
    {
     "data": {
      "text/plain": [
       "open         0\n",
       "high         0\n",
       "low          0\n",
       "close        0\n",
       "Adj Close    0\n",
       "volume       0\n",
       "dtype: int64"
      ]
     },
     "execution_count": 3,
     "metadata": {},
     "output_type": "execute_result"
    }
   ],
   "source": [
    "#Check if any zero volumes are available\n",
    "indexZeros = df[ df['volume'] == 0 ].index\n",
    "\n",
    "df.drop(indexZeros , inplace=True)\n",
    "df.loc[(df[\"volume\"] == 0 )]\n",
    "df.isna().sum()"
   ]
  },
  {
   "cell_type": "code",
   "execution_count": 4,
   "metadata": {
    "scrolled": false
   },
   "outputs": [],
   "source": [
    "import numpy as np\n",
    "import pandas_ta as ta\n",
    "#df.ta.indicators()\n",
    "#help(ta.atr)\n",
    "df['ATR'] = df.ta.atr(length=20)\n",
    "df['RSI'] = df.ta.rsi()\n",
    "df['Average'] = df.ta.midprice() #midprice\n",
    "df['MA40'] = df.ta.sma(length=40)\n",
    "df['MA80'] = df.ta.sma(length=80)\n",
    "df['MA160'] = df.ta.sma(length=160)\n",
    "\n",
    "from scipy.stats import linregress\n",
    "def get_slope(array):\n",
    "    y = np.array(array)\n",
    "    x = np.arange(len(y))\n",
    "    slope, intercept, r_value, p_value, std_err = linregress(x,y)\n",
    "    return slope\n",
    "\n",
    "#!!!!!!!!!!!!!!!!!!!!!!!!!!!!!\n",
    "backrollingN = 6\n",
    "#!!!!!!!!!!!!!!!!!!!!!!!!!!!!!\n",
    "df['slopeMA40'] = df['MA40'].rolling(window=backrollingN).apply(get_slope, raw=True)\n",
    "df['slopeMA80'] = df['MA80'].rolling(window=backrollingN).apply(get_slope, raw=True)\n",
    "df['slopeMA160'] = df['MA160'].rolling(window=backrollingN).apply(get_slope, raw=True)\n",
    "df['AverageSlope'] = df['Average'].rolling(window=backrollingN).apply(get_slope, raw=True)\n",
    "df['RSISlope'] = df['RSI'].rolling(window=backrollingN).apply(get_slope, raw=True)"
   ]
  },
  {
   "cell_type": "code",
   "execution_count": 5,
   "metadata": {
    "scrolled": true
   },
   "outputs": [
    {
     "data": {
      "text/html": [
       "<div>\n",
       "<style scoped>\n",
       "    .dataframe tbody tr th:only-of-type {\n",
       "        vertical-align: middle;\n",
       "    }\n",
       "\n",
       "    .dataframe tbody tr th {\n",
       "        vertical-align: top;\n",
       "    }\n",
       "\n",
       "    .dataframe thead th {\n",
       "        text-align: right;\n",
       "    }\n",
       "</style>\n",
       "<table border=\"1\" class=\"dataframe\">\n",
       "  <thead>\n",
       "    <tr style=\"text-align: right;\">\n",
       "      <th></th>\n",
       "      <th>open</th>\n",
       "      <th>high</th>\n",
       "      <th>low</th>\n",
       "      <th>close</th>\n",
       "      <th>Adj Close</th>\n",
       "      <th>volume</th>\n",
       "      <th>ATR</th>\n",
       "      <th>RSI</th>\n",
       "      <th>Average</th>\n",
       "      <th>MA40</th>\n",
       "      <th>MA80</th>\n",
       "      <th>MA160</th>\n",
       "      <th>slopeMA40</th>\n",
       "      <th>slopeMA80</th>\n",
       "      <th>slopeMA160</th>\n",
       "      <th>AverageSlope</th>\n",
       "      <th>RSISlope</th>\n",
       "    </tr>\n",
       "  </thead>\n",
       "  <tbody>\n",
       "    <tr>\n",
       "      <th>2022-09-01 14:00:00+00:00</th>\n",
       "      <td>19964.224609</td>\n",
       "      <td>19975.492188</td>\n",
       "      <td>19728.339844</td>\n",
       "      <td>19732.349609</td>\n",
       "      <td>19732.349609</td>\n",
       "      <td>116254720</td>\n",
       "      <td>173.413004</td>\n",
       "      <td>38.215983</td>\n",
       "      <td>19906.797852</td>\n",
       "      <td>20122.928125</td>\n",
       "      <td>20352.062476</td>\n",
       "      <td>20864.391528</td>\n",
       "      <td>5.174079</td>\n",
       "      <td>-20.717586</td>\n",
       "      <td>-13.929241</td>\n",
       "      <td>-91.400140</td>\n",
       "      <td>-3.546963</td>\n",
       "    </tr>\n",
       "    <tr>\n",
       "      <th>2022-09-01 17:00:00+00:00</th>\n",
       "      <td>19665.439453</td>\n",
       "      <td>19898.865234</td>\n",
       "      <td>19665.439453</td>\n",
       "      <td>19747.494141</td>\n",
       "      <td>19747.494141</td>\n",
       "      <td>112760832</td>\n",
       "      <td>176.413643</td>\n",
       "      <td>38.775852</td>\n",
       "      <td>19820.465820</td>\n",
       "      <td>20120.377002</td>\n",
       "      <td>20329.329980</td>\n",
       "      <td>20851.724963</td>\n",
       "      <td>2.328527</td>\n",
       "      <td>-21.836941</td>\n",
       "      <td>-13.174382</td>\n",
       "      <td>-94.137500</td>\n",
       "      <td>-3.133144</td>\n",
       "    </tr>\n",
       "    <tr>\n",
       "      <th>2022-09-01 18:00:00+00:00</th>\n",
       "      <td>19753.037109</td>\n",
       "      <td>19910.171875</td>\n",
       "      <td>19737.720703</td>\n",
       "      <td>19832.015625</td>\n",
       "      <td>19832.015625</td>\n",
       "      <td>99033088</td>\n",
       "      <td>176.215519</td>\n",
       "      <td>41.938111</td>\n",
       "      <td>19787.805664</td>\n",
       "      <td>20120.745703</td>\n",
       "      <td>20307.041504</td>\n",
       "      <td>20840.420691</td>\n",
       "      <td>0.700792</td>\n",
       "      <td>-22.304696</td>\n",
       "      <td>-12.371112</td>\n",
       "      <td>-73.221122</td>\n",
       "      <td>-0.979351</td>\n",
       "    </tr>\n",
       "    <tr>\n",
       "      <th>2022-09-01 20:00:00+00:00</th>\n",
       "      <td>19854.193359</td>\n",
       "      <td>20065.130859</td>\n",
       "      <td>19854.193359</td>\n",
       "      <td>20065.130859</td>\n",
       "      <td>20065.130859</td>\n",
       "      <td>363923456</td>\n",
       "      <td>179.060505</td>\n",
       "      <td>49.660810</td>\n",
       "      <td>19901.425781</td>\n",
       "      <td>20124.109326</td>\n",
       "      <td>20287.160352</td>\n",
       "      <td>20831.690991</td>\n",
       "      <td>0.202086</td>\n",
       "      <td>-22.200169</td>\n",
       "      <td>-11.758467</td>\n",
       "      <td>-32.757896</td>\n",
       "      <td>0.799715</td>\n",
       "    </tr>\n",
       "    <tr>\n",
       "      <th>2022-09-01 21:00:00+00:00</th>\n",
       "      <td>20064.867188</td>\n",
       "      <td>20119.892578</td>\n",
       "      <td>20063.500000</td>\n",
       "      <td>20088.865234</td>\n",
       "      <td>20088.865234</td>\n",
       "      <td>317700096</td>\n",
       "      <td>172.927109</td>\n",
       "      <td>50.384393</td>\n",
       "      <td>19987.042969</td>\n",
       "      <td>20123.653564</td>\n",
       "      <td>20268.477075</td>\n",
       "      <td>20822.612903</td>\n",
       "      <td>-0.190975</td>\n",
       "      <td>-21.635197</td>\n",
       "      <td>-10.970027</td>\n",
       "      <td>-0.106501</td>\n",
       "      <td>1.463269</td>\n",
       "    </tr>\n",
       "  </tbody>\n",
       "</table>\n",
       "</div>"
      ],
      "text/plain": [
       "                                   open          high           low  \\\n",
       "2022-09-01 14:00:00+00:00  19964.224609  19975.492188  19728.339844   \n",
       "2022-09-01 17:00:00+00:00  19665.439453  19898.865234  19665.439453   \n",
       "2022-09-01 18:00:00+00:00  19753.037109  19910.171875  19737.720703   \n",
       "2022-09-01 20:00:00+00:00  19854.193359  20065.130859  19854.193359   \n",
       "2022-09-01 21:00:00+00:00  20064.867188  20119.892578  20063.500000   \n",
       "\n",
       "                                  close     Adj Close     volume         ATR  \\\n",
       "2022-09-01 14:00:00+00:00  19732.349609  19732.349609  116254720  173.413004   \n",
       "2022-09-01 17:00:00+00:00  19747.494141  19747.494141  112760832  176.413643   \n",
       "2022-09-01 18:00:00+00:00  19832.015625  19832.015625   99033088  176.215519   \n",
       "2022-09-01 20:00:00+00:00  20065.130859  20065.130859  363923456  179.060505   \n",
       "2022-09-01 21:00:00+00:00  20088.865234  20088.865234  317700096  172.927109   \n",
       "\n",
       "                                 RSI       Average          MA40  \\\n",
       "2022-09-01 14:00:00+00:00  38.215983  19906.797852  20122.928125   \n",
       "2022-09-01 17:00:00+00:00  38.775852  19820.465820  20120.377002   \n",
       "2022-09-01 18:00:00+00:00  41.938111  19787.805664  20120.745703   \n",
       "2022-09-01 20:00:00+00:00  49.660810  19901.425781  20124.109326   \n",
       "2022-09-01 21:00:00+00:00  50.384393  19987.042969  20123.653564   \n",
       "\n",
       "                                   MA80         MA160  slopeMA40  slopeMA80  \\\n",
       "2022-09-01 14:00:00+00:00  20352.062476  20864.391528   5.174079 -20.717586   \n",
       "2022-09-01 17:00:00+00:00  20329.329980  20851.724963   2.328527 -21.836941   \n",
       "2022-09-01 18:00:00+00:00  20307.041504  20840.420691   0.700792 -22.304696   \n",
       "2022-09-01 20:00:00+00:00  20287.160352  20831.690991   0.202086 -22.200169   \n",
       "2022-09-01 21:00:00+00:00  20268.477075  20822.612903  -0.190975 -21.635197   \n",
       "\n",
       "                           slopeMA160  AverageSlope  RSISlope  \n",
       "2022-09-01 14:00:00+00:00  -13.929241    -91.400140 -3.546963  \n",
       "2022-09-01 17:00:00+00:00  -13.174382    -94.137500 -3.133144  \n",
       "2022-09-01 18:00:00+00:00  -12.371112    -73.221122 -0.979351  \n",
       "2022-09-01 20:00:00+00:00  -11.758467    -32.757896  0.799715  \n",
       "2022-09-01 21:00:00+00:00  -10.970027     -0.106501  1.463269  "
      ]
     },
     "execution_count": 5,
     "metadata": {},
     "output_type": "execute_result"
    }
   ],
   "source": [
    "df.tail()"
   ]
  },
  {
   "cell_type": "markdown",
   "metadata": {},
   "source": [
    "# Target categories"
   ]
  },
  {
   "cell_type": "code",
   "execution_count": 6,
   "metadata": {},
   "outputs": [],
   "source": [
    "#Define a target for out Take Profit based on the Trend Category Up,Down,Unclear Trend\n",
    "pipdiff = 0.04 #for TP\n",
    "SLTPRatio = 2 #pipdiff/Ratio gives SL\n",
    "\n",
    "def mytarget(barsupfront, df1):\n",
    "    length = len(df1)\n",
    "    high = list(df1['high'])\n",
    "    low = list(df1['low'])\n",
    "    close = list(df1['close'])\n",
    "    open = list(df1['open'])\n",
    "    trendcat = [None] * length\n",
    "    \n",
    "    for line in range (0,length-barsupfront-2):\n",
    "        valueOpenLow = 0\n",
    "        valueOpenHigh = 0\n",
    "        for i in range(1,barsupfront+2):\n",
    "            value1 = open[line+1]-low[line+i]\n",
    "            value2 = open[line+1]-high[line+i]\n",
    "            valueOpenLow = max(value1, valueOpenLow)\n",
    "            valueOpenHigh = min(value2, valueOpenHigh)\n",
    "\n",
    "            if ( (valueOpenLow >= pipdiff) and (-valueOpenHigh <= (pipdiff/SLTPRatio)) ):\n",
    "                trendcat[line] = 1 #-1 downtrend\n",
    "                break\n",
    "            elif ( (valueOpenLow <= (pipdiff/SLTPRatio)) and (-valueOpenHigh >= pipdiff) ):\n",
    "                trendcat[line] = 2 # uptrend\n",
    "                break\n",
    "            else:\n",
    "                trendcat[line] = 0 # no clear trend\n",
    "            \n",
    "    return trendcat"
   ]
  },
  {
   "cell_type": "code",
   "execution_count": 7,
   "metadata": {
    "scrolled": true
   },
   "outputs": [
    {
     "data": {
      "text/html": [
       "<div>\n",
       "<style scoped>\n",
       "    .dataframe tbody tr th:only-of-type {\n",
       "        vertical-align: middle;\n",
       "    }\n",
       "\n",
       "    .dataframe tbody tr th {\n",
       "        vertical-align: top;\n",
       "    }\n",
       "\n",
       "    .dataframe thead th {\n",
       "        text-align: right;\n",
       "    }\n",
       "</style>\n",
       "<table border=\"1\" class=\"dataframe\">\n",
       "  <thead>\n",
       "    <tr style=\"text-align: right;\">\n",
       "      <th></th>\n",
       "      <th>open</th>\n",
       "      <th>high</th>\n",
       "      <th>low</th>\n",
       "      <th>close</th>\n",
       "      <th>Adj Close</th>\n",
       "      <th>volume</th>\n",
       "      <th>ATR</th>\n",
       "      <th>RSI</th>\n",
       "      <th>Average</th>\n",
       "      <th>MA40</th>\n",
       "      <th>MA80</th>\n",
       "      <th>MA160</th>\n",
       "      <th>slopeMA40</th>\n",
       "      <th>slopeMA80</th>\n",
       "      <th>slopeMA160</th>\n",
       "      <th>AverageSlope</th>\n",
       "      <th>RSISlope</th>\n",
       "      <th>mytarget</th>\n",
       "    </tr>\n",
       "  </thead>\n",
       "  <tbody>\n",
       "    <tr>\n",
       "      <th>2022-05-01 05:00:00+00:00</th>\n",
       "      <td>37947.820312</td>\n",
       "      <td>38147.277344</td>\n",
       "      <td>37947.820312</td>\n",
       "      <td>38078.757812</td>\n",
       "      <td>38078.757812</td>\n",
       "      <td>578273280</td>\n",
       "      <td>NaN</td>\n",
       "      <td>NaN</td>\n",
       "      <td>NaN</td>\n",
       "      <td>NaN</td>\n",
       "      <td>NaN</td>\n",
       "      <td>NaN</td>\n",
       "      <td>NaN</td>\n",
       "      <td>NaN</td>\n",
       "      <td>NaN</td>\n",
       "      <td>NaN</td>\n",
       "      <td>NaN</td>\n",
       "      <td>0.0</td>\n",
       "    </tr>\n",
       "    <tr>\n",
       "      <th>2022-05-01 06:00:00+00:00</th>\n",
       "      <td>38075.960938</td>\n",
       "      <td>38122.292969</td>\n",
       "      <td>38001.390625</td>\n",
       "      <td>38001.390625</td>\n",
       "      <td>38001.390625</td>\n",
       "      <td>135424000</td>\n",
       "      <td>NaN</td>\n",
       "      <td>NaN</td>\n",
       "      <td>38047.548828</td>\n",
       "      <td>NaN</td>\n",
       "      <td>NaN</td>\n",
       "      <td>NaN</td>\n",
       "      <td>NaN</td>\n",
       "      <td>NaN</td>\n",
       "      <td>NaN</td>\n",
       "      <td>NaN</td>\n",
       "      <td>NaN</td>\n",
       "      <td>0.0</td>\n",
       "    </tr>\n",
       "    <tr>\n",
       "      <th>2022-05-01 07:00:00+00:00</th>\n",
       "      <td>38000.781250</td>\n",
       "      <td>38011.296875</td>\n",
       "      <td>37944.156250</td>\n",
       "      <td>37977.730469</td>\n",
       "      <td>37977.730469</td>\n",
       "      <td>117776384</td>\n",
       "      <td>NaN</td>\n",
       "      <td>NaN</td>\n",
       "      <td>38033.224609</td>\n",
       "      <td>NaN</td>\n",
       "      <td>NaN</td>\n",
       "      <td>NaN</td>\n",
       "      <td>NaN</td>\n",
       "      <td>NaN</td>\n",
       "      <td>NaN</td>\n",
       "      <td>NaN</td>\n",
       "      <td>NaN</td>\n",
       "      <td>0.0</td>\n",
       "    </tr>\n",
       "    <tr>\n",
       "      <th>2022-05-01 10:00:00+00:00</th>\n",
       "      <td>38001.437500</td>\n",
       "      <td>38080.269531</td>\n",
       "      <td>37986.335938</td>\n",
       "      <td>38055.949219</td>\n",
       "      <td>38055.949219</td>\n",
       "      <td>120254464</td>\n",
       "      <td>NaN</td>\n",
       "      <td>NaN</td>\n",
       "      <td>38012.212891</td>\n",
       "      <td>NaN</td>\n",
       "      <td>NaN</td>\n",
       "      <td>NaN</td>\n",
       "      <td>NaN</td>\n",
       "      <td>NaN</td>\n",
       "      <td>NaN</td>\n",
       "      <td>NaN</td>\n",
       "      <td>NaN</td>\n",
       "      <td>1.0</td>\n",
       "    </tr>\n",
       "    <tr>\n",
       "      <th>2022-05-01 11:00:00+00:00</th>\n",
       "      <td>38049.527344</td>\n",
       "      <td>38049.527344</td>\n",
       "      <td>37938.199219</td>\n",
       "      <td>37947.882812</td>\n",
       "      <td>37947.882812</td>\n",
       "      <td>28225536</td>\n",
       "      <td>NaN</td>\n",
       "      <td>NaN</td>\n",
       "      <td>38009.234375</td>\n",
       "      <td>NaN</td>\n",
       "      <td>NaN</td>\n",
       "      <td>NaN</td>\n",
       "      <td>NaN</td>\n",
       "      <td>NaN</td>\n",
       "      <td>NaN</td>\n",
       "      <td>NaN</td>\n",
       "      <td>NaN</td>\n",
       "      <td>0.0</td>\n",
       "    </tr>\n",
       "  </tbody>\n",
       "</table>\n",
       "</div>"
      ],
      "text/plain": [
       "                                   open          high           low  \\\n",
       "2022-05-01 05:00:00+00:00  37947.820312  38147.277344  37947.820312   \n",
       "2022-05-01 06:00:00+00:00  38075.960938  38122.292969  38001.390625   \n",
       "2022-05-01 07:00:00+00:00  38000.781250  38011.296875  37944.156250   \n",
       "2022-05-01 10:00:00+00:00  38001.437500  38080.269531  37986.335938   \n",
       "2022-05-01 11:00:00+00:00  38049.527344  38049.527344  37938.199219   \n",
       "\n",
       "                                  close     Adj Close     volume  ATR  RSI  \\\n",
       "2022-05-01 05:00:00+00:00  38078.757812  38078.757812  578273280  NaN  NaN   \n",
       "2022-05-01 06:00:00+00:00  38001.390625  38001.390625  135424000  NaN  NaN   \n",
       "2022-05-01 07:00:00+00:00  37977.730469  37977.730469  117776384  NaN  NaN   \n",
       "2022-05-01 10:00:00+00:00  38055.949219  38055.949219  120254464  NaN  NaN   \n",
       "2022-05-01 11:00:00+00:00  37947.882812  37947.882812   28225536  NaN  NaN   \n",
       "\n",
       "                                Average  MA40  MA80  MA160  slopeMA40  \\\n",
       "2022-05-01 05:00:00+00:00           NaN   NaN   NaN    NaN        NaN   \n",
       "2022-05-01 06:00:00+00:00  38047.548828   NaN   NaN    NaN        NaN   \n",
       "2022-05-01 07:00:00+00:00  38033.224609   NaN   NaN    NaN        NaN   \n",
       "2022-05-01 10:00:00+00:00  38012.212891   NaN   NaN    NaN        NaN   \n",
       "2022-05-01 11:00:00+00:00  38009.234375   NaN   NaN    NaN        NaN   \n",
       "\n",
       "                           slopeMA80  slopeMA160  AverageSlope  RSISlope  \\\n",
       "2022-05-01 05:00:00+00:00        NaN         NaN           NaN       NaN   \n",
       "2022-05-01 06:00:00+00:00        NaN         NaN           NaN       NaN   \n",
       "2022-05-01 07:00:00+00:00        NaN         NaN           NaN       NaN   \n",
       "2022-05-01 10:00:00+00:00        NaN         NaN           NaN       NaN   \n",
       "2022-05-01 11:00:00+00:00        NaN         NaN           NaN       NaN   \n",
       "\n",
       "                           mytarget  \n",
       "2022-05-01 05:00:00+00:00       0.0  \n",
       "2022-05-01 06:00:00+00:00       0.0  \n",
       "2022-05-01 07:00:00+00:00       0.0  \n",
       "2022-05-01 10:00:00+00:00       1.0  \n",
       "2022-05-01 11:00:00+00:00       0.0  "
      ]
     },
     "execution_count": 7,
     "metadata": {},
     "output_type": "execute_result"
    }
   ],
   "source": [
    "# mytarget(barsfront to take into account, dataframe)\n",
    "df['mytarget'] = mytarget(16, df)\n",
    "df.head()"
   ]
  },
  {
   "cell_type": "markdown",
   "metadata": {},
   "source": [
    "# Quick analysis example"
   ]
  },
  {
   "cell_type": "code",
   "execution_count": 8,
   "metadata": {},
   "outputs": [
    {
     "name": "stderr",
     "output_type": "stream",
     "text": [
      "C:\\Users\\PC\\AppData\\Local\\Temp\\ipykernel_18772\\2197991844.py:5: UserWarning: To output multiple subplots, the figure containing the passed axes is being cleared.\n",
      "  df_model.hist(ax = ax)\n"
     ]
    },
    {
     "data": {
      "image/png": "[encoded data removed]",
      "text/plain": [
       "<Figure size 1080x1440 with 12 Axes>"
      ]
     },
     "metadata": {
      "needs_background": "light"
     },
     "output_type": "display_data"
    }
   ],
   "source": [
    "import matplotlib.pyplot as plt\n",
    "fig = plt.figure(figsize = (15,20))\n",
    "ax = fig.gca()\n",
    "df_model= df[['ATR', 'RSI', 'Average', 'MA40', 'MA80', 'MA160', 'slopeMA40', 'slopeMA80', 'slopeMA160', 'AverageSlope', 'RSISlope', 'mytarget']] \n",
    "df_model.hist(ax = ax)\n",
    "plt.show()"
   ]
  },
  {
   "cell_type": "markdown",
   "metadata": {},
   "source": [
    "_The above analysis is very usefull as we are able to asses wether each feauture in our strategy is working properly by looking at it's distribution. For example we can see the Moving Average indicators are skewed closed to 20k since price has spent the most time there in the last year.Also it very interesting to note that very often the criteria for mytarget is not met which makes sense as our strategy should not be executed at every tick of price_"
   ]
  },
  {
   "cell_type": "markdown",
   "metadata": {},
   "source": [
    "## Check if RSI can be used alone as a trend indicator"
   ]
  },
  {
   "cell_type": "code",
   "execution_count": 9,
   "metadata": {},
   "outputs": [
    {
     "data": {
      "image/png": "[encoded data removed]",
      "text/plain": [
       "<Figure size 432x288 with 1 Axes>"
      ]
     },
     "metadata": {
      "needs_background": "light"
     },
     "output_type": "display_data"
    }
   ],
   "source": [
    "from matplotlib import pyplot\n",
    "df_up=df.RSI[ df['mytarget'] == 2 ]\n",
    "df_down=df.RSI[ df['mytarget'] == 1 ]\n",
    "df_unclear=df.RSI[ df['mytarget'] == 0 ]\n",
    "pyplot.hist(df_unclear, bins=100, alpha=0.5, label='unclear')\n",
    "pyplot.hist(df_down, bins=100, alpha=0.5, label='down')\n",
    "pyplot.hist(df_up, bins=100, alpha=0.5, label='up')\n",
    "\n",
    "pyplot.legend(loc='upper right')\n",
    "pyplot.show()"
   ]
  },
  {
   "cell_type": "markdown",
   "metadata": {},
   "source": [
    "_From the graph above we can see that there is not visible difference between the histograms of the different TREND CATEGORIES. They will show the same values with the same probabilities for the RSI indicator.However this can really be the case as that would mean we could determine the trend only based on RSI which is not the case in real life_"
   ]
  },
  {
   "cell_type": "markdown",
   "metadata": {},
   "source": [
    "# Machine learning for trend prediction"
   ]
  },
  {
   "cell_type": "markdown",
   "metadata": {},
   "source": [
    "1. the perfect model with precise prediction\n",
    "2. less perfect model still with > 40% precision\n",
    "3. much less perfect model with precision >35% taking into account our strategy, and our TP/SL ratio\n",
    "4. Use KNN and XG Boost to classify our categorical values from our target"
   ]
  },
  {
   "cell_type": "markdown",
   "metadata": {},
   "source": [
    "## Splitting features and target"
   ]
  },
  {
   "cell_type": "code",
   "execution_count": 10,
   "metadata": {},
   "outputs": [
    {
     "name": "stdout",
     "output_type": "stream",
     "text": [
      "                                  ATR        RSI       Average          MA40  \\\n",
      "2022-05-12 09:00:00+00:00  842.662749  40.005604  27741.437500  30221.522754   \n",
      "2022-05-12 10:00:00+00:00  845.958323  44.466909  28063.136719  30155.658398   \n",
      "2022-05-12 11:00:00+00:00  837.003961  43.874753  28282.201172  30084.563232   \n",
      "2022-05-12 14:00:00+00:00  864.199857  51.230976  28710.281250  30061.370703   \n",
      "2022-05-12 19:00:00+00:00  877.181466  46.876311  28710.281250  30014.076562   \n",
      "...                               ...        ...           ...           ...   \n",
      "2022-08-30 19:00:00+00:00  158.232478  44.717122  19874.500977  20034.754492   \n",
      "2022-08-30 20:00:00+00:00  158.070952  46.358764  19923.694336  20026.854199   \n",
      "2022-08-30 21:00:00+00:00  156.124338  43.075180  19956.918945  20017.645215   \n",
      "2022-08-30 22:00:00+00:00  152.450348  43.646467  19909.488281  20008.974805   \n",
      "2022-08-31 00:00:00+00:00  153.870409  46.375176  19890.007812  20003.657031   \n",
      "\n",
      "                                   MA80         MA160  slopeMA40   slopeMA80  \\\n",
      "2022-05-12 09:00:00+00:00  32019.634375  35011.927539 -95.698096 -104.233772   \n",
      "2022-05-12 10:00:00+00:00  31936.999097  34952.294714 -82.399058  -98.158495   \n",
      "2022-05-12 11:00:00+00:00  31846.918481  34888.724890 -75.234362  -92.728158   \n",
      "2022-05-12 14:00:00+00:00  31774.473120  34834.925061 -66.794340  -87.781262   \n",
      "2022-05-12 19:00:00+00:00  31696.510400  34777.504761 -57.463052  -83.056328   \n",
      "...                                 ...           ...        ...         ...   \n",
      "2022-08-30 19:00:00+00:00  20667.683203  21188.228674 -19.115866  -21.443804   \n",
      "2022-08-30 20:00:00+00:00  20652.057642  21164.543457 -15.489895  -20.329600   \n",
      "2022-08-30 21:00:00+00:00  20635.617456  21140.762036 -11.771229  -18.751212   \n",
      "2022-08-30 22:00:00+00:00  20618.445630  21118.598755  -9.300978  -17.519298   \n",
      "2022-08-31 00:00:00+00:00  20601.802417  21096.446887  -8.274482  -16.712666   \n",
      "\n",
      "                           slopeMA160  AverageSlope  RSISlope  \n",
      "2022-05-12 09:00:00+00:00  -65.940952    -81.340346  1.597949  \n",
      "2022-05-12 10:00:00+00:00  -63.831474    110.264509  2.425568  \n",
      "2022-05-12 11:00:00+00:00  -62.606023    230.704939  2.006088  \n",
      "2022-05-12 14:00:00+00:00  -61.201998    298.637444  1.949491  \n",
      "2022-05-12 19:00:00+00:00  -59.538753    293.139369  1.922572  \n",
      "...                               ...           ...       ...  \n",
      "2022-08-30 19:00:00+00:00  -26.460125   -119.668750 -1.858791  \n",
      "2022-08-30 20:00:00+00:00  -25.626919    -20.925977  2.681362  \n",
      "2022-08-30 21:00:00+00:00  -24.555908     45.009124  2.905835  \n",
      "2022-08-30 22:00:00+00:00  -23.865525     44.733594  2.021219  \n",
      "2022-08-31 00:00:00+00:00  -23.232367     31.953069  1.096169  \n",
      "\n",
      "[1396 rows x 11 columns]\n"
     ]
    }
   ],
   "source": [
    "df_model=df_model.dropna()\n",
    "\n",
    "attributes=['ATR', 'RSI', 'Average', 'MA40', 'MA80', 'MA160', 'slopeMA40', 'slopeMA80', 'slopeMA160', 'AverageSlope', 'RSISlope']\n",
    "X = df_model[attributes]\n",
    "y = df_model[\"mytarget\"]\n",
    "\n",
    "print(X)"
   ]
  },
  {
   "cell_type": "code",
   "execution_count": 11,
   "metadata": {},
   "outputs": [],
   "source": [
    "from sklearn.model_selection import train_test_split\n",
    "X_train, X_test, y_train, y_test = train_test_split(X, y, test_size=0.2, random_state=1)"
   ]
  },
  {
   "cell_type": "markdown",
   "metadata": {},
   "source": [
    "## Fitting the KNN model"
   ]
  },
  {
   "cell_type": "code",
   "execution_count": 12,
   "metadata": {},
   "outputs": [],
   "source": [
    "from sklearn.neighbors import KNeighborsClassifier\n",
    "\n",
    "model = KNeighborsClassifier(n_neighbors=200, weights='uniform', algorithm='kd_tree', leaf_size=30, p=1, metric='minkowski', metric_params=None, n_jobs=1)\n",
    "model.fit(X_train, y_train)\n",
    "\n",
    "y_pred_train = model.predict(X_train)\n",
    "y_pred_test = model.predict(X_test)"
   ]
  },
  {
   "cell_type": "markdown",
   "metadata": {},
   "source": [
    "## Quick evaluation of our fitting"
   ]
  },
  {
   "cell_type": "code",
   "execution_count": 13,
   "metadata": {},
   "outputs": [
    {
     "name": "stdout",
     "output_type": "stream",
     "text": [
      "Accuracy train: 75.09%\n",
      "Accuracy test: 71.79%\n",
      "0.0    74.426934\n",
      "2.0    13.538682\n",
      "1.0    12.034384\n",
      "Name: mytarget, dtype: float64\n",
      "Accuracy Gambler: 30.00%\n"
     ]
    }
   ],
   "source": [
    "from sklearn.metrics import accuracy_score\n",
    "accuracy_train = accuracy_score(y_train, y_pred_train)\n",
    "accuracy_test = accuracy_score(y_test, y_pred_test)\n",
    "print(\"Accuracy train: %.2f%%\" % (accuracy_train * 100.0))\n",
    "print(\"Accuracy test: %.2f%%\" % (accuracy_test * 100.0))\n",
    "\n",
    "#------------------------------------------------------------------\n",
    "#--- How should I compare my accuracy ?\n",
    "print(df_model['mytarget'].value_counts()*100/df_model['mytarget'].count())\n",
    "\n",
    "# Random Model, gambler?\n",
    "pred_test = np.random.choice([0, 1, 2], len(y_pred_test))\n",
    "accuracy_test = accuracy_score(y_test, pred_test)\n",
    "print(\"Accuracy Gambler: %.2f%%\" % (accuracy_test * 100.0))"
   ]
  },
  {
   "cell_type": "markdown",
   "metadata": {},
   "source": [
    "## Run XGBoost model"
   ]
  },
  {
   "cell_type": "code",
   "execution_count": 14,
   "metadata": {},
   "outputs": [
    {
     "name": "stdout",
     "output_type": "stream",
     "text": [
      "****Train Results****\n",
      "Accuracy: 100.0000%\n",
      "****Test Results****\n",
      "Accuracy: 66.0714%\n"
     ]
    }
   ],
   "source": [
    "import xgboost as xgb\n",
    "from xgboost import XGBClassifier\n",
    "model = XGBClassifier()\n",
    "model.fit(X_train, y_train)\n",
    "pred_train = model.predict(X_train)\n",
    "pred_test = model.predict(X_test)\n",
    "acc_train = accuracy_score(y_train, pred_train)\n",
    "acc_test = accuracy_score(y_test, pred_test)\n",
    "print('****Train Results****')\n",
    "print(\"Accuracy: {:.4%}\".format(acc_train))\n",
    "print('****Test Results****')\n",
    "print(\"Accuracy: {:.4%}\".format(acc_test))"
   ]
  },
  {
   "cell_type": "markdown",
   "metadata": {},
   "source": [
    "## Sequential sampling for XGB boost"
   ]
  },
  {
   "cell_type": "code",
   "execution_count": 15,
   "metadata": {},
   "outputs": [
    {
     "name": "stdout",
     "output_type": "stream",
     "text": [
      "****Train Results****\n",
      "Accuracy: 100.0000%\n",
      "****Test Results****\n",
      "Accuracy: 72.1429%\n"
     ]
    }
   ],
   "source": [
    "#random sampling\n",
    "#X_train, X_test, y_train, y_test = train_test_split(X, y, test_size=0.2, random_state=10)\n",
    "\n",
    "#sequential sampling as our data should not be randomly sampled\n",
    "train_index = int(0.8 * len(X))\n",
    "X_train, X_test = X[:train_index], X[train_index:]\n",
    "y_train, y_test = y[:train_index], y[train_index:]\n",
    "\n",
    "model = XGBClassifier()\n",
    "model.fit(X_train, y_train)\n",
    "pred_train = model.predict(X_train)\n",
    "pred_test = model.predict(X_test)\n",
    "acc_train = accuracy_score(y_train, pred_train)\n",
    "acc_test = accuracy_score(y_test, pred_test)\n",
    "print('****Train Results****')\n",
    "print(\"Accuracy: {:.4%}\".format(acc_train))\n",
    "print('****Test Results****')\n",
    "print(\"Accuracy: {:.4%}\".format(acc_test))"
   ]
  },
  {
   "cell_type": "markdown",
   "metadata": {},
   "source": [
    "## Which features are most important for our model?"
   ]
  },
  {
   "cell_type": "code",
   "execution_count": 36,
   "metadata": {},
   "outputs": [
    {
     "data": {
      "image/png": "[encoded data removed]",
      "text/plain": [
       "<Figure size 432x288 with 1 Axes>"
      ]
     },
     "metadata": {
      "needs_background": "light"
     },
     "output_type": "display_data"
    }
   ],
   "source": [
    "from matplotlib import pyplot\n",
    "from xgboost import plot_importance\n",
    "#plot feature importance\n",
    "plot_importance(model)\n",
    "pyplot.show()"
   ]
  },
  {
   "cell_type": "markdown",
   "metadata": {},
   "source": [
    "## Load Machine Learning Model from Disk and Test it"
   ]
  },
  {
   "cell_type": "code",
   "execution_count": 37,
   "metadata": {},
   "outputs": [],
   "source": [
    "import joblib\n",
    "\n",
    "# save your ML model to disk\n",
    "filename = 'mymodel1.sav'\n",
    "joblib.dump(model, filename)\n",
    "\n",
    "#load the model from disk\n",
    "loaded_model = joblib.load('mymodel1.sav')"
   ]
  },
  {
   "cell_type": "markdown",
   "metadata": {},
   "source": [
    "## Live Automated Orders with email notification"
   ]
  },
  {
   "cell_type": "code",
   "execution_count": 3,
   "metadata": {},
   "outputs": [],
   "source": [
    "from apscheduler.schedulers.blocking import BlockingScheduler\n",
    "import json\n",
    "from oandapyV20 import API\n",
    "import oandapyV20.endpoints.orders as orders\n",
    "from oandapyV20.contrib.requests import MarketOrderRequest\n",
    "from oanda_candles import Pair, Gran, CandleCollector\n",
    "from oandapyV20.contrib.requests import TakeProfitDetails, StopLossDetails\n",
    "\n",
    "\n",
    "import smtplib\n",
    "gmail_user = 'email@gmail.com'\n",
    "gmail_password = 'email password here'\n",
    "sent_from = gmail_user\n",
    "to = ['email@gmail.com']\n",
    "subject = 'info CHF'\n"
   ]
  },
  {
   "cell_type": "code",
   "execution_count": null,
   "metadata": {},
   "outputs": [],
   "source": [
    "ModelPrediction = 0\n",
    "def some_job():\n",
    "    access_token=\"INSERT TOKEN HERE, YOU GET IT FROM YOUR OANDA ACCOUNT\"\n",
    "    collector = CandleCollector(access_token, Pair.USD_CHF, Gran.H4)\n",
    "    candles = collector.grab(2*161)\n",
    "\n",
    "    dfstream = pd.DataFrame(columns=['Open','Close','High','Low'])\n",
    "    i=0\n",
    "    for candle in candles:\n",
    "        dfstream.loc[i, ['Open']] = float(str(candle.bid.o))\n",
    "        dfstream.loc[i, ['Close']] = float(str(candle.bid.c))\n",
    "        dfstream.loc[i, ['High']] = float(str(candle.bid.h))\n",
    "        dfstream.loc[i, ['Low']] = float(str(candle.bid.l))\n",
    "        i=i+1\n",
    "\n",
    "    dfstream['Open'] = dfstream['Open'].astype(float)\n",
    "    dfstream['Close'] = dfstream['Close'].astype(float)\n",
    "    dfstream['High'] = dfstream['High'].astype(float)\n",
    "    dfstream['Low'] = dfstream['Low'].astype(float)\n",
    "\n",
    "    #dfstream['Average'] = (dfstream['High']+dfstream['Low'])/2\n",
    "    #dfstream['MA40'] = dfstream['Open'].rolling(window=40).mean()\n",
    "    #dfstream['MA80'] = dfstream['Open'].rolling(window=80).mean()\n",
    "    #dfstream['MA160'] = dfstream['Open'].rolling(window=160).mean()\n",
    "    \n",
    "    import numpy as np\n",
    "    import pandas_ta as ta\n",
    "    #attributes=['ATR', 'RSI', 'Average', \n",
    "    #'MA40', 'MA80', 'MA160', 'slopeMA40', \n",
    "    #'slopeMA80', 'slopeMA160', 'AverageSlope', 'RSISlope']\n",
    "    dfstream['ATR'] = dfstream.ta.atr(length=20)\n",
    "    dfstream['RSI'] = dfstream.ta.rsi()\n",
    "    dfstream['Average'] = dfstream.ta.midprice(length=1) #midprice\n",
    "    dfstream['MA40'] = dfstream.ta.sma(length=40)\n",
    "    dfstream['MA80'] = dfstream.ta.sma(length=80)\n",
    "    dfstream['MA160'] = dfstream.ta.sma(length=160)\n",
    "\n",
    "#from scipy.stats import linregress\n",
    "#def get_slope(array):\n",
    "#    y = np.array(array)\n",
    "#    x = np.arange(len(y))\n",
    "#    slope, intercept, r_value, p_value, std_err = linregress(x,y)\n",
    "#    return slope\n",
    "\n",
    "    #!!!!!!!!!!!!!!!!!!!!!!!!!!!!!\n",
    "    backrollingN = 6\n",
    "    #!!!!!!!!!!!!!!!!!!!!!!!!!!!!!\n",
    "    dfstream['slopeMA40'] = dfstream['MA40'].rolling(window=backrollingN).apply(get_slope, raw=True)\n",
    "    dfstream['slopeMA80'] = dfstream['MA80'].rolling(window=backrollingN).apply(get_slope, raw=True)\n",
    "    dfstream['slopeMA160'] = dfstream['MA160'].rolling(window=backrollingN).apply(get_slope, raw=True)\n",
    "    dfstream['AverageSlope'] = dfstream['Average'].rolling(window=backrollingN).apply(get_slope, raw=True)\n",
    "    dfstream['RSISlope'] = dfstream['RSI'].rolling(window=backrollingN).apply(get_slope, raw=True)\n",
    "\n",
    "    #________________________________________________________________________________________________\n",
    "    X_stream = dfstream.iloc[[320]]# !!! Index takes last CLOSED candle\n",
    "    #attributes=['ATR', 'RSI', 'Average', 'MA40', 'MA80', 'MA160', \n",
    "    #'slopeMA40', 'slopeMA80', 'slopeMA160', 'AverageSlope', 'RSISlope']\n",
    "    X_model = X_stream[attributes]\n",
    "    \n",
    "    # Apply the model for predictions\n",
    "    ModelPrediction = loaded_model.predict(X_model)\n",
    "  \n",
    "    msg = str(ModelPrediction) # 0 no clear trend, 1 downtrend, 2 uptrend\n",
    "    #------------------------------------\n",
    "    # send email with \n",
    "    server = smtplib.SMTP_SSL('smtp.gmail.com', 465)\n",
    "    server.ehlo()\n",
    "    server.login(gmail_user, gmail_password)\n",
    "    server.sendmail(sent_from, to, msg)\n",
    "    server.close()\n",
    "    #________________________________________________________________________________________________\n",
    "    \n",
    "    \n",
    "    # EXECUTING ORDERS\n",
    "    accountID = \"1432-432-0000\" #use your account ID\n",
    "    client = API(access_token)\n",
    "\n",
    "    candles = collector.grab(1)\n",
    "#    for candle in candles:\n",
    "#        print(candle.bid.o)\n",
    "#        print(candle.bid.c)\n",
    "    \n",
    "    pipdiff = 0.04 #for TP\n",
    "    SLTPRatio = 2 #pipdiff/Ratio gives SL\n",
    "    \n",
    "    TPBuy = float(str(candle.bid.o))+pipdiff\n",
    "    SLBuy = float(str(candle.bid.o))-(pipdiff/SLTPRatio)\n",
    "    TPSell = float(str(candle.bid.o))-pipdiff\n",
    "    SLSell = float(str(candle.bid.o))+(pipdiff/SLTPRatio)\n",
    "    \n",
    "    #Sell\n",
    "    if ModelPrediction == 1:\n",
    "        mo = MarketOrderRequest(instrument=\"USD_CHF\", units=-1000, takeProfitOnFill=TakeProfitDetails(price=TPSell).data, stopLossOnFill=StopLossDetails(price=SLSell).data)\n",
    "        r = orders.OrderCreate(accountID, data=mo.data)\n",
    "        rv = client.request(r)\n",
    "        print(rv)\n",
    "    #Buy\n",
    "    elif ModelPrediction == 2:\n",
    "        mo = MarketOrderRequest(instrument=\"USD_CHF\", units=1000, takeProfitOnFill=TakeProfitDetails(price=TPBuy).data, stopLossOnFill=StopLossDetails(price=SLBuy).data)\n",
    "        r = orders.OrderCreate(accountID, data=mo.data)\n",
    "        rv = client.request(r)\n",
    "        print(rv)"
   ]
  },
  {
   "cell_type": "markdown",
   "metadata": {},
   "source": [
    "## Executing orders automatically every 4 Hours"
   ]
  },
  {
   "cell_type": "code",
   "execution_count": null,
   "metadata": {},
   "outputs": [],
   "source": [
    "#some_job()\n",
    "\n",
    "###################################################################\n",
    "## Interval time job ##############################################\n",
    "#scheduler = BlockingScheduler(job_defaults={'misfire_grace_time': 15*60})\n",
    "#scheduler.add_job(some_job, 'cron', day_of_week='mon-fri', hour='*/4', minute=5, jitter=120, timezone='America/New_York')\n",
    "#scheduler.add_job(some_job, 'interval', hours=4)\n",
    "#scheduler.start()"
   ]
  },
  {
   "cell_type": "code",
   "execution_count": null,
   "metadata": {},
   "outputs": [],
   "source": []
  }
 ],
 "metadata": {
  "kernelspec": {
   "display_name": "Python 3 (ipykernel)",
   "language": "python",
   "name": "python3"
  },
  "language_info": {
   "codemirror_mode": {
    "name": "ipython",
    "version": 3
   },
   "file_extension": ".py",
   "mimetype": "text/x-python",
   "name": "python",
   "nbconvert_exporter": "python",
   "pygments_lexer": "ipython3",
   "version": "3.9.12"
  }
 },
 "nbformat": 4,
 "nbformat_minor": 2
}
